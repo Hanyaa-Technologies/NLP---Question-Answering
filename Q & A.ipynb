{
 "cells": [
  {
   "cell_type": "code",
   "execution_count": 1,
   "metadata": {},
   "outputs": [
    {
     "name": "stdout",
     "output_type": "stream",
     "text": [
      "Requirement already satisfied: torch in d:\\kiran my projects\\navarasa-2.0- q&a\\.venv\\lib\\site-packages (2.3.0)\n",
      "Requirement already satisfied: filelock in d:\\kiran my projects\\navarasa-2.0- q&a\\.venv\\lib\\site-packages (from torch) (3.14.0)\n",
      "Requirement already satisfied: typing-extensions>=4.8.0 in d:\\kiran my projects\\navarasa-2.0- q&a\\.venv\\lib\\site-packages (from torch) (4.12.0)\n",
      "Requirement already satisfied: sympy in d:\\kiran my projects\\navarasa-2.0- q&a\\.venv\\lib\\site-packages (from torch) (1.12)\n",
      "Requirement already satisfied: networkx in d:\\kiran my projects\\navarasa-2.0- q&a\\.venv\\lib\\site-packages (from torch) (3.3)\n",
      "Requirement already satisfied: jinja2 in d:\\kiran my projects\\navarasa-2.0- q&a\\.venv\\lib\\site-packages (from torch) (3.1.4)\n",
      "Requirement already satisfied: fsspec in d:\\kiran my projects\\navarasa-2.0- q&a\\.venv\\lib\\site-packages (from torch) (2024.5.0)\n",
      "Requirement already satisfied: mkl<=2021.4.0,>=2021.1.1 in d:\\kiran my projects\\navarasa-2.0- q&a\\.venv\\lib\\site-packages (from torch) (2021.4.0)\n",
      "Requirement already satisfied: intel-openmp==2021.* in d:\\kiran my projects\\navarasa-2.0- q&a\\.venv\\lib\\site-packages (from mkl<=2021.4.0,>=2021.1.1->torch) (2021.4.0)\n",
      "Requirement already satisfied: tbb==2021.* in d:\\kiran my projects\\navarasa-2.0- q&a\\.venv\\lib\\site-packages (from mkl<=2021.4.0,>=2021.1.1->torch) (2021.12.0)\n",
      "Requirement already satisfied: MarkupSafe>=2.0 in d:\\kiran my projects\\navarasa-2.0- q&a\\.venv\\lib\\site-packages (from jinja2->torch) (2.1.5)\n",
      "Requirement already satisfied: mpmath>=0.19 in d:\\kiran my projects\\navarasa-2.0- q&a\\.venv\\lib\\site-packages (from sympy->torch) (1.3.0)\n",
      "Note: you may need to restart the kernel to use updated packages.\n"
     ]
    }
   ],
   "source": [
    "pip install torch \n"
   ]
  },
  {
   "cell_type": "code",
   "execution_count": 2,
   "metadata": {},
   "outputs": [
    {
     "name": "stdout",
     "output_type": "stream",
     "text": [
      "Requirement already satisfied: transformers in d:\\kiran my projects\\navarasa-2.0- q&a\\.venv\\lib\\site-packages (4.41.1)Note: you may need to restart the kernel to use updated packages.\n",
      "\n",
      "Requirement already satisfied: filelock in d:\\kiran my projects\\navarasa-2.0- q&a\\.venv\\lib\\site-packages (from transformers) (3.14.0)\n",
      "Requirement already satisfied: huggingface-hub<1.0,>=0.23.0 in d:\\kiran my projects\\navarasa-2.0- q&a\\.venv\\lib\\site-packages (from transformers) (0.23.2)\n",
      "Requirement already satisfied: numpy>=1.17 in d:\\kiran my projects\\navarasa-2.0- q&a\\.venv\\lib\\site-packages (from transformers) (1.26.4)\n",
      "Requirement already satisfied: packaging>=20.0 in d:\\kiran my projects\\navarasa-2.0- q&a\\.venv\\lib\\site-packages (from transformers) (24.0)\n",
      "Requirement already satisfied: pyyaml>=5.1 in d:\\kiran my projects\\navarasa-2.0- q&a\\.venv\\lib\\site-packages (from transformers) (6.0.1)\n",
      "Requirement already satisfied: regex!=2019.12.17 in d:\\kiran my projects\\navarasa-2.0- q&a\\.venv\\lib\\site-packages (from transformers) (2024.5.15)\n",
      "Requirement already satisfied: requests in d:\\kiran my projects\\navarasa-2.0- q&a\\.venv\\lib\\site-packages (from transformers) (2.32.2)\n",
      "Requirement already satisfied: tokenizers<0.20,>=0.19 in d:\\kiran my projects\\navarasa-2.0- q&a\\.venv\\lib\\site-packages (from transformers) (0.19.1)\n",
      "Requirement already satisfied: safetensors>=0.4.1 in d:\\kiran my projects\\navarasa-2.0- q&a\\.venv\\lib\\site-packages (from transformers) (0.4.3)\n",
      "Requirement already satisfied: tqdm>=4.27 in d:\\kiran my projects\\navarasa-2.0- q&a\\.venv\\lib\\site-packages (from transformers) (4.66.4)\n",
      "Requirement already satisfied: fsspec>=2023.5.0 in d:\\kiran my projects\\navarasa-2.0- q&a\\.venv\\lib\\site-packages (from huggingface-hub<1.0,>=0.23.0->transformers) (2024.5.0)\n",
      "Requirement already satisfied: typing-extensions>=3.7.4.3 in d:\\kiran my projects\\navarasa-2.0- q&a\\.venv\\lib\\site-packages (from huggingface-hub<1.0,>=0.23.0->transformers) (4.12.0)\n",
      "Requirement already satisfied: colorama in d:\\kiran my projects\\navarasa-2.0- q&a\\.venv\\lib\\site-packages (from tqdm>=4.27->transformers) (0.4.6)\n",
      "Requirement already satisfied: charset-normalizer<4,>=2 in d:\\kiran my projects\\navarasa-2.0- q&a\\.venv\\lib\\site-packages (from requests->transformers) (3.3.2)\n",
      "Requirement already satisfied: idna<4,>=2.5 in d:\\kiran my projects\\navarasa-2.0- q&a\\.venv\\lib\\site-packages (from requests->transformers) (3.7)\n",
      "Requirement already satisfied: urllib3<3,>=1.21.1 in d:\\kiran my projects\\navarasa-2.0- q&a\\.venv\\lib\\site-packages (from requests->transformers) (2.2.1)\n",
      "Requirement already satisfied: certifi>=2017.4.17 in d:\\kiran my projects\\navarasa-2.0- q&a\\.venv\\lib\\site-packages (from requests->transformers) (2024.2.2)\n"
     ]
    }
   ],
   "source": [
    "pip install transformers "
   ]
  },
  {
   "cell_type": "code",
   "execution_count": null,
   "metadata": {},
   "outputs": [],
   "source": []
  },
  {
   "cell_type": "code",
   "execution_count": 29,
   "metadata": {},
   "outputs": [
    {
     "data": {
      "application/vnd.jupyter.widget-view+json": {
       "model_id": "09840a4486ab4119a3d8eda75d0b5a77",
       "version_major": 2,
       "version_minor": 0
      },
      "text/plain": [
       "Loading checkpoint shards:   0%|          | 0/3 [00:00<?, ?it/s]"
      ]
     },
     "metadata": {},
     "output_type": "display_data"
    },
    {
     "name": "stdout",
     "output_type": "stream",
     "text": [
      "['Instruction: vijay devarakonda hit movies emiti, vaati perlu enti? \\nInput: విజయ్ దేవరకొండ ఇప్పటి వరకు  పంతొమ్మిది సినిమాలు చేసాడు.అందులో పక్కా హీరోగా చేసిన చిత్రాలు పన్నెండు.హిట్ అయిన సినిమాలు పెళ్లి చూపులు, అర్జున్ రెడ్డి, గీత గోవిందం,టాక్సీ వాలా  లేటెస్ట్ గా ఫ్యామిలీ స్టార్ తో   డిజాస్టర్ ని అందుకున్నాడు.  దీంతో ఇప్పుడు తనకి  అర్జెంట్ గా  ఒక హిట్ కావాలి. ఈ నేపథ్యంలో వస్తున్న  రెండు వార్తలు విజయ్ ఫ్యాన్స్ లో పండగ వాతావరణాన్ని తెస్తున్నాయి. పైగా ఈ సారి హిట్ ఖాయమని కూడా అంటున్నారు \\nResponse: విజయ్ దేవరకొండ ఇప్పటి పంతొమ్మిది సినిమాలు చేసిన చిత్రాలు పన్నెండు చేయబడిన హీరోగా చేసిన చిత్రాలు పెళ్లి చూపులు, అర్జున్ రెడ్డి, గీత గోవిందం, టాక్సీ వాలా లేటెస్ట్ గా ఫ్యామిలీ స్టార్ తో డిజాస్టర్ ని �������']\n"
     ]
    }
   ],
   "source": [
    "import torch\n",
    "from transformers import AutoTokenizer, AutoModelForCausalLM\n",
    " \n",
    "model_name = \"Telugu-LLM-Labs/Telugu-Llama2-7B-v0-Instruct\"\n",
    "tokenizer = AutoTokenizer.from_pretrained(model_name)\n",
    "model = AutoModelForCausalLM.from_pretrained(model_name)\n",
    " \n",
    "instruction = \"vijay devarakonda hit movies emiti, vaati perlu enti?\"\n",
    "input = \"విజయ్ దేవరకొండ ఇప్పటి వరకు  పంతొమ్మిది సినిమాలు చేసాడు.అందులో పక్కా హీరోగా చేసిన చిత్రాలు పన్నెండు.హిట్ అయిన సినిమాలు పెళ్లి చూపులు, అర్జున్ రెడ్డి, గీత గోవిందం,టాక్సీ వాలా  లేటెస్ట్ గా ఫ్యామిలీ స్టార్ తో   డిజాస్టర్ ని అందుకున్నాడు.  దీంతో ఇప్పుడు తనకి  అర్జెంట్ గా  ఒక హిట్ కావాలి. ఈ నేపథ్యంలో వస్తున్న  రెండు వార్తలు విజయ్ ఫ్యాన్స్ లో పండగ వాతావరణాన్ని తెస్తున్నాయి. పైగా ఈ సారి హిట్ ఖాయమని కూడా అంటున్నారు\"\n",
    "\n",
    " \n",
    "text = f\"\"\"Instruction: {instruction} \\nInput: {input} \\nResponse:\"\"\"\n",
    "encodings = tokenizer(text, padding=True, return_tensors=\"pt\")\n",
    " \n",
    "with torch.inference_mode():\n",
    "    outputs = model.generate(encodings.input_ids, do_sample=True, max_new_tokens=500, temperature = 0.5, top_p = 0.5)\n",
    " \n",
    " \n",
    "output_1 = tokenizer.batch_decode(outputs.detach(), skip_special_tokens=True) \n",
    "print(output_1)"
   ]
  },
  {
   "cell_type": "code",
   "execution_count": null,
   "metadata": {},
   "outputs": [],
   "source": []
  },
  {
   "cell_type": "code",
   "execution_count": null,
   "metadata": {},
   "outputs": [],
   "source": []
  },
  {
   "cell_type": "markdown",
   "metadata": {},
   "source": [
    "Only Response "
   ]
  },
  {
   "cell_type": "code",
   "execution_count": 30,
   "metadata": {},
   "outputs": [
    {
     "data": {
      "application/vnd.jupyter.widget-view+json": {
       "model_id": "9f92d75f6a1149c396d05aa5343c5f26",
       "version_major": 2,
       "version_minor": 0
      },
      "text/plain": [
       "Loading checkpoint shards:   0%|          | 0/3 [00:00<?, ?it/s]"
      ]
     },
     "metadata": {},
     "output_type": "display_data"
    },
    {
     "name": "stdout",
     "output_type": "stream",
     "text": [
      "విజయ్ దేవరకొండ ఇప్పటి వరకు పంతొమ్మిది సినిమాలు చేసిన చిత్రాలు పన్నెండు. హిట్ అయిన సినిమాలు పెళ్లి చూపులు, అర్జున్ రెడ్డి, గీత గోవిందం, టాక్సీ వాలా లేటెస్ట్ గా ఫ్యామిలీ స్టార్ తో డిజాస్టర్ ని అందుకున్��\n"
     ]
    }
   ],
   "source": [
    "import torch\n",
    "from transformers import AutoTokenizer, AutoModelForCausalLM\n",
    "\n",
    "model_name = \"Telugu-LLM-Labs/Telugu-Llama2-7B-v0-Instruct\"\n",
    "tokenizer = AutoTokenizer.from_pretrained(model_name)\n",
    "model = AutoModelForCausalLM.from_pretrained(model_name)\n",
    "\n",
    "instruction = \"vijay devarakonda hit movies emiti, vaati perlu enti?\"\n",
    "input_text = \"విజయ్ దేవరకొండ ఇప్పటి వరకు పంతొమ్మిది సినిమాలు చేసాడు.అందులో పక్కా హీరోగా చేసిన చిత్రాలు పన్నెండు.హిట్ అయిన సినిమాలు పెళ్లి చూపులు, అర్జున్ రెడ్డి, గీత గోవిందం,టాక్సీ వాలా లేటెస్ట్ గా ఫ్యామిలీ స్టార్ తో డిజాస్టర్ ని అందుకున్నాడు.  దీంతో ఇప్పుడు తనకి అర్జెంట్ గా ఒక హిట్ కావాలి. ఈ నేపథ్యంలో వస్తున్న రెండు వార్తలు విజయ్ ఫ్యాన్స్ లో పండగ వాతావరణాన్ని తెస్తున్నాయి. పైగా ఈ సారి హిట్ ఖాయమని కూడా అంటున్నారు\"\n",
    "\n",
    "prompt = f\"Instruction: {instruction}\\nInput: {input_text}\\nResponse:\"\n",
    "\n",
    "encodings = tokenizer(prompt, padding=True, return_tensors=\"pt\")\n",
    "\n",
    "with torch.inference_mode():\n",
    "    outputs = model.generate(encodings.input_ids, do_sample=True, max_new_tokens=500, temperature=0.5, top_p=0.5)\n",
    "\n",
    "output_text = tokenizer.decode(outputs[0], skip_special_tokens=True)\n",
    "\n",
    "# Extract the part after \"Response:\" to get only the response\n",
    "response = output_text.split(\"Response:\")[-1].strip()\n",
    "print(response)\n"
   ]
  },
  {
   "cell_type": "code",
   "execution_count": null,
   "metadata": {},
   "outputs": [],
   "source": []
  },
  {
   "cell_type": "code",
   "execution_count": null,
   "metadata": {},
   "outputs": [],
   "source": []
  }
 ],
 "metadata": {
  "kernelspec": {
   "display_name": "Python 3",
   "language": "python",
   "name": "python3"
  },
  "language_info": {
   "codemirror_mode": {
    "name": "ipython",
    "version": 3
   },
   "file_extension": ".py",
   "mimetype": "text/x-python",
   "name": "python",
   "nbconvert_exporter": "python",
   "pygments_lexer": "ipython3",
   "version": "3.12.3"
  }
 },
 "nbformat": 4,
 "nbformat_minor": 2
}
